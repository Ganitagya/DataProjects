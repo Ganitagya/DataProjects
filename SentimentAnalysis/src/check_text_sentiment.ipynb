{
 "cells": [
  {
   "attachments": {},
   "cell_type": "markdown",
   "metadata": {},
   "source": [
    "Get the string data\n",
    "Do some manipulation of the string"
   ]
  },
  {
   "cell_type": "code",
   "execution_count": 14,
   "metadata": {},
   "outputs": [
    {
     "name": "stdout",
     "output_type": "stream",
     "text": [
      "like servic\n",
      "['like servic']\n"
     ]
    }
   ],
   "source": [
    "from nltk.corpus import stopwords\n",
    "from nltk.stem.porter import PorterStemmer\n",
    "import nltk\n",
    "import re\n",
    "from sklearn.feature_extraction.text import TfidfVectorizer\n",
    "\n",
    "n = 'I like this service'\n",
    "\n",
    "#print(stopwords.words('english'))\n",
    "\n",
    "port_stem = PorterStemmer()\n",
    "stemmed_content = re.sub('[^a-zA-Z]', ' ', n).lower().split()\n",
    "stemmed_content = [port_stem.stem(word) for word in stemmed_content if not word in stopwords.words('english')]\n",
    "stemmed_content = ' '.join(stemmed_content)\n",
    "\n",
    "print(stemmed_content)\n",
    "\n",
    "X_test = []\n",
    "X_test.append(stemmed_content)\n",
    "print(X_test)"
   ]
  },
  {
   "attachments": {},
   "cell_type": "markdown",
   "metadata": {},
   "source": [
    "Load the vectorizer that we exported in the 'sentimentAnalysisML' code"
   ]
  },
  {
   "cell_type": "code",
   "execution_count": 15,
   "metadata": {},
   "outputs": [],
   "source": [
    "import pickle\n",
    "\n",
    "# Load the saved vectorizer\n",
    "with open('../model/tfidf_vectorizer.pkl', 'rb') as f:\n",
    "    vectorizer = pickle.load(f)\n",
    "\n",
    "# Transform new text data\n",
    "transformed_text = vectorizer.transform(X_test)"
   ]
  },
  {
   "attachments": {},
   "cell_type": "markdown",
   "metadata": {},
   "source": [
    "Check the sentiment"
   ]
  },
  {
   "cell_type": "code",
   "execution_count": 16,
   "metadata": {},
   "outputs": [
    {
     "name": "stdout",
     "output_type": "stream",
     "text": [
      "Positive Tweet\n"
     ]
    }
   ],
   "source": [
    "loaded_model = pickle.load(open('../model/trained_model.sav', 'rb'))\n",
    "\n",
    "prediction = loaded_model.predict(transformed_text)[0]\n",
    "\n",
    "\n",
    "if (prediction == 0):\n",
    "    print('Negative Tweet')\n",
    "\n",
    "else:\n",
    "    print('Positive Tweet')"
   ]
  }
 ],
 "metadata": {
  "kernelspec": {
   "display_name": "Python 3",
   "language": "python",
   "name": "python3"
  },
  "language_info": {
   "codemirror_mode": {
    "name": "ipython",
    "version": 3
   },
   "file_extension": ".py",
   "mimetype": "text/x-python",
   "name": "python",
   "nbconvert_exporter": "python",
   "pygments_lexer": "ipython3",
   "version": "3.12.7"
  },
  "orig_nbformat": 4,
  "vscode": {
   "interpreter": {
    "hash": "52274011b24c224e23bf576247fcd111977cdf356fec9a6ed8529b9a77d4f350"
   }
  }
 },
 "nbformat": 4,
 "nbformat_minor": 2
}
